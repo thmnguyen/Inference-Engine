{
 "cells": [
  {
   "cell_type": "code",
   "execution_count": 1,
   "metadata": {},
   "outputs": [
    {
     "ename": "ModuleNotFoundError",
     "evalue": "No module named 'pandas'",
     "output_type": "error",
     "traceback": [
      "\u001b[1;31m---------------------------------------------------------------------------\u001b[0m",
      "\u001b[1;31mModuleNotFoundError\u001b[0m                       Traceback (most recent call last)",
      "Cell \u001b[1;32mIn[1], line 1\u001b[0m\n\u001b[1;32m----> 1\u001b[0m \u001b[38;5;28;01mimport\u001b[39;00m \u001b[38;5;21;01mpandas\u001b[39;00m \u001b[38;5;28;01mas\u001b[39;00m \u001b[38;5;21;01mpd\u001b[39;00m\n\u001b[0;32m      2\u001b[0m \u001b[38;5;28;01mimport\u001b[39;00m \u001b[38;5;21;01mrandom\u001b[39;00m\n\u001b[0;32m      3\u001b[0m \u001b[38;5;28;01mfrom\u001b[39;00m \u001b[38;5;21;01mconstants\u001b[39;00m \u001b[38;5;28;01mimport\u001b[39;00m LOGIC_OPERANDS\n",
      "\u001b[1;31mModuleNotFoundError\u001b[0m: No module named 'pandas'"
     ]
    }
   ],
   "source": [
    "import pandas as pd\n",
    "import random\n",
    "from constants import LOGIC_OPERANDS\n",
    "from InferenceEngine import InferenceEngine\n",
    "from KnowledgeBase import *\n",
    "from Algorithms.TruthTable import *\n",
    "from Algorithms.FowardChaining import *\n",
    "from Algorithms.BackwardChaining import *\n",
    "from Algorithms.WalkSAT import *\n",
    "from Algorithms.DPLL import *\n",
    "PROBABILITY_OF_HORN_QUERY_BEING_AN_EXPRESSION = 0.7\n",
    "PROBABILITY_OF_QUERY_BEING_AN_EXPRESSION = 0.6\n"
   ]
  },
  {
   "cell_type": "code",
   "execution_count": null,
   "metadata": {},
   "outputs": [],
   "source": [
    "pip install pandas"
   ]
  },
  {
   "cell_type": "code",
   "execution_count": null,
   "metadata": {},
   "outputs": [],
   "source": [
    "def generate_horn_clause(num_symbols, number_of_horn_clauses=10):\n",
    "    symbols = set(random.sample([chr(i) for i in range(ord(\"a\"), ord(\"z\") + 1)], num_symbols))\n",
    "    horn_clauses, single_literals = set(), set()\n",
    "    while len(horn_clauses) + len(single_literals) < number_of_horn_clauses:\n",
    "        consequent = random.choice(list(symbols))\n",
    "        if random.random() <= PROBABILITY_OF_HORN_QUERY_BEING_AN_EXPRESSION:\n",
    "            antecedents = random.sample(symbols - {consequent}, random.randint(1, num_symbols - 1))\n",
    "            horn_clauses.add(f\"{' & '.join(antecedents)} => {consequent}\")\n",
    "        else:\n",
    "            single_literals.add(consequent)\n",
    "    tell = \"; \".join(horn_clauses) + (\";\" if horn_clauses else \"\") + (\" \" + \"; \".join(single_literals) + \";\" if single_literals else \"\")\n",
    "    return f\"TELL\\n{tell}\\nASK\\n{random.choice(list(symbols))}\\n\"\n"
   ]
  },
  {
   "cell_type": "code",
   "execution_count": null,
   "metadata": {},
   "outputs": [
    {
     "name": "stdout",
     "output_type": "stream",
     "text": [
      "0\n",
      "5 8\n"
     ]
    },
    {
     "ename": "NameError",
     "evalue": "name 'generate_horn_clause' is not defined",
     "output_type": "error",
     "traceback": [
      "\u001b[0;31m---------------------------------------------------------------------------\u001b[0m",
      "\u001b[0;31mNameError\u001b[0m                                 Traceback (most recent call last)",
      "Cell \u001b[0;32mIn[2], line 7\u001b[0m\n\u001b[1;32m      5\u001b[0m param2 \u001b[38;5;241m=\u001b[39m random\u001b[38;5;241m.\u001b[39mrandint(\u001b[38;5;241m6\u001b[39m, \u001b[38;5;241m15\u001b[39m)\n\u001b[1;32m      6\u001b[0m \u001b[38;5;28mprint\u001b[39m(param1, param2)\n\u001b[0;32m----> 7\u001b[0m clause \u001b[38;5;241m=\u001b[39m \u001b[43mgenerate_horn_clause\u001b[49m(param1, param2)\n\u001b[1;32m      8\u001b[0m list1\u001b[38;5;241m.\u001b[39mappend(clause)\n",
      "\u001b[0;31mNameError\u001b[0m: name 'generate_horn_clause' is not defined"
     ]
    }
   ],
   "source": [
    "# list1 = []\n",
    "# for i in range(1000):\n",
    "#     print(i)\n",
    "#     param1 = random.randint(3, 5)\n",
    "#     param2 = random.randint(6, 15)\n",
    "#     print(param1, param2)\n",
    "#     clause = generate_horn_clause(param1, param2)\n",
    "#     list1.append(clause)"
   ]
  },
  {
   "cell_type": "code",
   "execution_count": null,
   "metadata": {},
   "outputs": [],
   "source": [
    "\n",
    "# df = pd.DataFrame(list1)\n",
    "# df.to_csv('./horn_clauses.csv', sep = '|' ,index=False)"
   ]
  },
  {
   "cell_type": "code",
   "execution_count": null,
   "metadata": {},
   "outputs": [
    {
     "data": {
      "text/html": [
       "<div>\n",
       "<style scoped>\n",
       "    .dataframe tbody tr th:only-of-type {\n",
       "        vertical-align: middle;\n",
       "    }\n",
       "\n",
       "    .dataframe tbody tr th {\n",
       "        vertical-align: top;\n",
       "    }\n",
       "\n",
       "    .dataframe thead th {\n",
       "        text-align: right;\n",
       "    }\n",
       "</style>\n",
       "<table border=\"1\" class=\"dataframe\">\n",
       "  <thead>\n",
       "    <tr style=\"text-align: right;\">\n",
       "      <th></th>\n",
       "      <th>text</th>\n",
       "    </tr>\n",
       "  </thead>\n",
       "  <tbody>\n",
       "    <tr>\n",
       "      <th>0</th>\n",
       "      <td>TELL\\nn &amp; o =&gt; l; x &amp; u &amp; n &amp; o =&gt; l; l =&gt; o; ...</td>\n",
       "    </tr>\n",
       "    <tr>\n",
       "      <th>1</th>\n",
       "      <td>TELL\\nt =&gt; i; p &amp; a &amp; i &amp; t =&gt; v; p &amp; t &amp; a =&gt;...</td>\n",
       "    </tr>\n",
       "    <tr>\n",
       "      <th>2</th>\n",
       "      <td>TELL\\nj &amp; n =&gt; m; j &amp; m =&gt; n; n =&gt; j; n &amp; m =&gt;...</td>\n",
       "    </tr>\n",
       "    <tr>\n",
       "      <th>3</th>\n",
       "      <td>TELL\\ng &amp; y =&gt; p; r &amp; p &amp; g =&gt; o; g &amp; y &amp; o &amp; ...</td>\n",
       "    </tr>\n",
       "    <tr>\n",
       "      <th>4</th>\n",
       "      <td>TELL\\nf &amp; o &amp; i &amp; v =&gt; a; v =&gt; a; a &amp; i =&gt; o; ...</td>\n",
       "    </tr>\n",
       "    <tr>\n",
       "      <th>...</th>\n",
       "      <td>...</td>\n",
       "    </tr>\n",
       "    <tr>\n",
       "      <th>995</th>\n",
       "      <td>TELL\\nh &amp; a &amp; b =&gt; m; a &amp; m &amp; h =&gt; p; h &amp; p =&gt;...</td>\n",
       "    </tr>\n",
       "    <tr>\n",
       "      <th>996</th>\n",
       "      <td>TELL\\na &amp; g =&gt; o; g &amp; a =&gt; o; g =&gt; a; a =&gt; g; ...</td>\n",
       "    </tr>\n",
       "    <tr>\n",
       "      <th>997</th>\n",
       "      <td>TELL\\nz &amp; a =&gt; v; v =&gt; p; v =&gt; a; a =&gt; p; v &amp; ...</td>\n",
       "    </tr>\n",
       "    <tr>\n",
       "      <th>998</th>\n",
       "      <td>TELL\\ns &amp; p =&gt; l; u &amp; w &amp; p &amp; l =&gt; s; u =&gt; p; ...</td>\n",
       "    </tr>\n",
       "    <tr>\n",
       "      <th>999</th>\n",
       "      <td>TELL\\nj &amp; t &amp; z =&gt; x; t &amp; j =&gt; c; j &amp; x &amp; z &amp; ...</td>\n",
       "    </tr>\n",
       "  </tbody>\n",
       "</table>\n",
       "<p>1000 rows × 1 columns</p>\n",
       "</div>"
      ],
      "text/plain": [
       "                                                  text\n",
       "0    TELL\\nn & o => l; x & u & n & o => l; l => o; ...\n",
       "1    TELL\\nt => i; p & a & i & t => v; p & t & a =>...\n",
       "2    TELL\\nj & n => m; j & m => n; n => j; n & m =>...\n",
       "3    TELL\\ng & y => p; r & p & g => o; g & y & o & ...\n",
       "4    TELL\\nf & o & i & v => a; v => a; a & i => o; ...\n",
       "..                                                 ...\n",
       "995  TELL\\nh & a & b => m; a & m & h => p; h & p =>...\n",
       "996  TELL\\na & g => o; g & a => o; g => a; a => g; ...\n",
       "997  TELL\\nz & a => v; v => p; v => a; a => p; v & ...\n",
       "998  TELL\\ns & p => l; u & w & p & l => s; u => p; ...\n",
       "999  TELL\\nj & t & z => x; t & j => c; j & x & z & ...\n",
       "\n",
       "[1000 rows x 1 columns]"
      ]
     },
     "execution_count": 2,
     "metadata": {},
     "output_type": "execute_result"
    }
   ],
   "source": [
    "df1 = pd.read_csv('./horn_clauses.csv', sep= '|')\n",
    "df1"
   ]
  },
  {
   "cell_type": "code",
   "execution_count": null,
   "metadata": {},
   "outputs": [],
   "source": [
    "import time\n",
    "\n",
    "def TTread_function(text):\n",
    "    knowledge_base = KnowledgeBase(False)\n",
    "    knowledge_base.read_text(text)\n",
    "    algorithm = TruthTableAlgorithm(knowledge_base)\n",
    "    start_time = time.time()\n",
    "    entails_result = algorithm.entails()\n",
    "    end_time = time.time()\n",
    "    time_taken = end_time - start_time\n",
    "    return time_taken * 1000\n",
    "\n",
    "def FCread_function(text):\n",
    "    knowledge_base = KnowledgeBase(True)\n",
    "    knowledge_base.read_text(text)\n",
    "    algorithm = ForwardChainingAlgorithm(knowledge_base)\n",
    "    start_time = time.time()\n",
    "    entails_result = algorithm.entails()\n",
    "    end_time = time.time()\n",
    "    time_taken = end_time - start_time\n",
    "    return time_taken * 1000\n",
    "\n",
    "def BCread_function(text):\n",
    "    knowledge_base = KnowledgeBase(True)\n",
    "    knowledge_base.read_text(text)\n",
    "    algorithm = BackwardChainingAlgorithm(knowledge_base)\n",
    "    start_time = time.time()\n",
    "    entails_result = algorithm.entails()\n",
    "    end_time = time.time()\n",
    "    time_taken = end_time - start_time\n",
    "    return time_taken * 1000\n",
    "\n",
    "def WALKSATread_function(text):\n",
    "    knowledge_base = KnowledgeBase(True)\n",
    "    knowledge_base.read_text(text)\n",
    "    algorithm = WalkSAT(knowledge_base)\n",
    "    start_time = time.time()\n",
    "    entails_result = algorithm.entails()\n",
    "    end_time = time.time()\n",
    "    time_taken = end_time - start_time\n",
    "    return time_taken\n",
    "\n",
    "def DPLLread_function(text):\n",
    "    knowledge_base = KnowledgeBase(True)\n",
    "    knowledge_base.read_text(text)\n",
    "    algorithm = DPLL(knowledge_base)\n",
    "    start_time = time.time()\n",
    "    entails_result = algorithm.entails()\n",
    "    end_time = time.time()\n",
    "    time_taken = end_time - start_time\n",
    "    return time_taken\n"
   ]
  },
  {
   "cell_type": "code",
   "execution_count": null,
   "metadata": {},
   "outputs": [],
   "source": [
    "df1['TT'] = df1['text'].apply(TTread_function)\n",
    "df1['FC'] = df1['text'].apply(FCread_function)\n",
    "df1['BC'] = df1['text'].apply(BCread_function)\n",
    "df1['DPLL'] = df1['text'].apply(DPLLread_function)\n"
   ]
  },
  {
   "cell_type": "code",
   "execution_count": null,
   "metadata": {},
   "outputs": [
    {
     "name": "stdout",
     "output_type": "stream",
     "text": [
      "          Mean    Median\n",
      "TT    0.196825  0.136018\n",
      "FC    0.002743  0.002146\n",
      "BC    0.003304  0.002146\n",
      "DPLL  0.000161  0.000154\n"
     ]
    }
   ],
   "source": [
    "columns = [\"TT\", \"FC\", \"BC\", \"DPLL\"]\n",
    "# Calculate mean, median, and total for each column\n",
    "result1 = pd.DataFrame(columns=[\"Mean\", \"Median\"], index=[\"TT\", \"FC\", \"BC\", \"DPLL\"])\n",
    "\n",
    "for column in columns:\n",
    "    result1.at[column, \"Mean\"] = df1[column].mean()\n",
    "    result1.at[column, \"Median\"] = df1[column].median()\n",
    "    # result1.at[column, \"Total\"] = df1[column].sum()\n",
    "\n",
    "print(result1)"
   ]
  },
  {
   "cell_type": "code",
   "execution_count": null,
   "metadata": {},
   "outputs": [],
   "source": [
    "pip install seaborn"
   ]
  },
  {
   "cell_type": "code",
   "execution_count": null,
   "metadata": {},
   "outputs": [
    {
     "data": {
      "text/plain": [
       "<Axes: xlabel='index', ylabel='Value'>"
      ]
     },
     "execution_count": 35,
     "metadata": {},
     "output_type": "execute_result"
    },
    {
     "data": {
      "image/png": "[encoded data removed]",
      "text/plain": [
       "<Figure size 640x480 with 1 Axes>"
      ]
     },
     "metadata": {},
     "output_type": "display_data"
    }
   ],
   "source": [
    "import seaborn as sns\n",
    "result1 = result1.reset_index()\n",
    "\n",
    "# Melt the DataFrame for easier plotting\n",
    "result_melted = result1.melt(id_vars='index', var_name='Statistic', value_name='Value')\n",
    "\n",
    "# Plot using Seaborn\n",
    "sns.barplot(x='index', y='Value', hue='Statistic', data=result_melted)\n"
   ]
  },
  {
   "cell_type": "code",
   "execution_count": null,
   "metadata": {},
   "outputs": [],
   "source": []
  }
 ],
 "metadata": {
  "kernelspec": {
   "display_name": ".venv",
   "language": "python",
   "name": "python3"
  },
  "language_info": {
   "codemirror_mode": {
    "name": "ipython",
    "version": 3
   },
   "file_extension": ".py",
   "mimetype": "text/x-python",
   "name": "python",
   "nbconvert_exporter": "python",
   "pygments_lexer": "ipython3",
   "version": "3.12.2"
  }
 },
 "nbformat": 4,
 "nbformat_minor": 2
}
